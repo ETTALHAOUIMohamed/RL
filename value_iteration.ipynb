{
 "cells": [
  {
   "cell_type": "code",
   "execution_count": 7,
   "id": "e48f1923",
   "metadata": {},
   "outputs": [],
   "source": [
    "import numpy as np\n",
    "import random"
   ]
  },
  {
   "cell_type": "code",
   "execution_count": 8,
   "id": "843cdfe5",
   "metadata": {},
   "outputs": [],
   "source": [
    "class stateClass:\n",
    "    def __init__(self,state, K, reward = -1):\n",
    "        self.K = K\n",
    "        self.isStart = self.isStart(state)\n",
    "        self.isEnd = self.isTerminal(state)\n",
    "        self.state = state\n",
    "        self.reward = self.getReward()\n",
    "    \n",
    "    def isTerminal(self, state):\n",
    "        if (state==(self.K-1,self.K-1)):\n",
    "            return True\n",
    "        return False\n",
    "    \n",
    "    def isStart(self, state):\n",
    "        if (state==(0,0)):\n",
    "            return True\n",
    "        return False\n",
    "      \n",
    "    def getStates(self):\n",
    "        return (self.state[0],self.state[1])\n",
    "\n",
    "    def getReward(self):\n",
    "        if self.state == (self.K-1,self.K-1):\n",
    "            return 2*(self.K-1)\n",
    "\n",
    "        else:\n",
    "            return -1"
   ]
  },
  {
   "cell_type": "code",
   "execution_count": 9,
   "id": "5da501f3",
   "metadata": {},
   "outputs": [],
   "source": [
    "class Grid():\n",
    "    def __init__(self,K):\n",
    "        self.K = K\n",
    "        self.grid = np.zeros((self.K,self.K))\n",
    "        #Initialisation of v\n",
    "        self.value_state = np.zeros((self.K,self.K))\n",
    "        self.policy = [[\"\" for i in range(self.K)] for i in range(self.K)]\n",
    "    def value_state_function(self, theta = 0.01,gamma = 0.9):\n",
    "        #ajouter un delta until delta < threshold\n",
    "        delta = 99 \n",
    "        while delta>theta:\n",
    "            delta = 0\n",
    "            for x in range(self.K-1,-1,-1):\n",
    "                for y in range(self.K-1,-1,-1):\n",
    "                    if x == self.K-1 and y == self.K-1:\n",
    "                        self.policy[x][y] = 'T'\n",
    "                        continue\n",
    "                    state=stateClass((x,y),self.K)\n",
    "                    v_old = self.value_state[x][y]\n",
    "\n",
    "                    possible_actions = self.getPossibleActions((x,y))\n",
    "                    dct={}\n",
    "\n",
    "                    for i, val in enumerate(possible_actions):\n",
    "                        if val == ['T']:\n",
    "                            continue\n",
    "                        next_state = self.step(state.getStates(),val)\n",
    "                        v_next = self.value_state[next_state[0]][next_state[1]]\n",
    "                        next_state = stateClass((next_state[0],next_state[1]),self.K)\n",
    "                        reward = next_state.reward\n",
    "                        v_new = reward + gamma*v_next\n",
    "                        dct[val]=v_new\n",
    "\n",
    "                    valist = [val for val in dct.values()]\n",
    "                    max_value = max(valist)\n",
    "                    #calcule de la nouvelle valeur\n",
    "                    self.value_state[x][y] = max_value\n",
    "                    best_action = self.get_best_action(dct,max_value)\n",
    "                    self.policy[x][y]=best_action\n",
    "\n",
    "                    delta = max(delta,abs(self.value_state[x][y]-v_old))\n",
    "            if delta<theta:\n",
    "                break\n",
    "\n",
    "        return self.value_state, self.policy\n",
    "                    \n",
    "\n",
    "\n",
    "    def step(self, state,action):\n",
    "        i = state[0]\n",
    "        j = state[1]\n",
    "        if action == 'S': # sud\n",
    "            if i == self.K-1:\n",
    "                return None\n",
    "            else:\n",
    "                i+=1        \n",
    "          \n",
    "        elif action == 'E':#EAST\n",
    "            if j == self.K-1:\n",
    "                return None\n",
    "            else:\n",
    "                j+=1\n",
    "                        \n",
    "        elif action == 'N':#nord\n",
    "            if i == 0:\n",
    "                return None\n",
    "            else:\n",
    "                i-=1\n",
    "                                      \n",
    "        elif action == 'W':#WEST\n",
    "            if j == 0:\n",
    "                return None\n",
    "            else:\n",
    "                j-=1\n",
    "            \n",
    "        return (i,j)\n",
    "    \n",
    "    def getPossibleActions(self, state):\n",
    "        \n",
    "        if state[0]==0:\n",
    "            if state[1]==0:\n",
    "                return ['E','S']\n",
    "            elif state[1]==self.K-1:\n",
    "                return ['S','W']\n",
    "            else:\n",
    "                return ['W','E','S']\n",
    "\n",
    "        elif state[0]==self.K - 1:\n",
    "            if state[1]==0:\n",
    "                return ['N','E']\n",
    "            elif state[1]==self.K-1:\n",
    "                return ['T']\n",
    "            \n",
    "            else:\n",
    "                return ['N','E','W']\n",
    "\n",
    "        elif state[1]==0:\n",
    "            return ['S','N','E']\n",
    "        \n",
    "        elif state[1]==self.K-1:\n",
    "            return ['N','S','W']\n",
    "\n",
    "        else:\n",
    "            return ['N','E','S','W']\n",
    "        \n",
    "    def get_best_action(self,d,val):\n",
    "        for key, value in d.items():\n",
    "            if val == value:\n",
    "#                 print(\"the action chosen\",key)\n",
    "                return key\n",
    "            "
   ]
  },
  {
   "cell_type": "code",
   "execution_count": 10,
   "id": "1ac766aa",
   "metadata": {},
   "outputs": [
    {
     "name": "stdout",
     "output_type": "stream",
     "text": [
      "Enter k the size of the gridWorld: 12\n"
     ]
    }
   ],
   "source": [
    "k = int(input(\"Enter k the size of the gridWorld: \"))"
   ]
  },
  {
   "cell_type": "code",
   "execution_count": 11,
   "id": "4764fdef",
   "metadata": {},
   "outputs": [],
   "source": [
    "grid = Grid(k)"
   ]
  },
  {
   "cell_type": "code",
   "execution_count": 12,
   "id": "a8feeed0",
   "metadata": {},
   "outputs": [
    {
     "data": {
      "text/plain": [
       "array([[0., 0., 0., 0., 0., 0., 0., 0., 0., 0., 0., 0.],\n",
       "       [0., 0., 0., 0., 0., 0., 0., 0., 0., 0., 0., 0.],\n",
       "       [0., 0., 0., 0., 0., 0., 0., 0., 0., 0., 0., 0.],\n",
       "       [0., 0., 0., 0., 0., 0., 0., 0., 0., 0., 0., 0.],\n",
       "       [0., 0., 0., 0., 0., 0., 0., 0., 0., 0., 0., 0.],\n",
       "       [0., 0., 0., 0., 0., 0., 0., 0., 0., 0., 0., 0.],\n",
       "       [0., 0., 0., 0., 0., 0., 0., 0., 0., 0., 0., 0.],\n",
       "       [0., 0., 0., 0., 0., 0., 0., 0., 0., 0., 0., 0.],\n",
       "       [0., 0., 0., 0., 0., 0., 0., 0., 0., 0., 0., 0.],\n",
       "       [0., 0., 0., 0., 0., 0., 0., 0., 0., 0., 0., 0.],\n",
       "       [0., 0., 0., 0., 0., 0., 0., 0., 0., 0., 0., 0.],\n",
       "       [0., 0., 0., 0., 0., 0., 0., 0., 0., 0., 0., 0.]])"
      ]
     },
     "execution_count": 12,
     "metadata": {},
     "output_type": "execute_result"
    }
   ],
   "source": [
    "grid.value_state"
   ]
  },
  {
   "cell_type": "code",
   "execution_count": 13,
   "id": "1216a33d",
   "metadata": {},
   "outputs": [],
   "source": [
    "value_state, policy = grid.value_state_function()"
   ]
  },
  {
   "cell_type": "code",
   "execution_count": 14,
   "id": "391f680d",
   "metadata": {},
   "outputs": [
    {
     "data": {
      "text/plain": [
       "[['E', 'E', 'E', 'E', 'E', 'E', 'E', 'E', 'E', 'E', 'E', 'S'],\n",
       " ['S', 'E', 'E', 'E', 'E', 'E', 'E', 'E', 'E', 'E', 'E', 'S'],\n",
       " ['S', 'E', 'E', 'E', 'E', 'E', 'E', 'E', 'E', 'E', 'E', 'S'],\n",
       " ['S', 'E', 'E', 'E', 'E', 'E', 'E', 'E', 'E', 'E', 'E', 'S'],\n",
       " ['S', 'E', 'E', 'E', 'E', 'E', 'E', 'E', 'E', 'E', 'E', 'S'],\n",
       " ['S', 'E', 'E', 'E', 'E', 'E', 'E', 'E', 'E', 'E', 'E', 'S'],\n",
       " ['S', 'E', 'E', 'E', 'E', 'E', 'E', 'E', 'E', 'E', 'E', 'S'],\n",
       " ['S', 'E', 'E', 'E', 'E', 'E', 'E', 'E', 'E', 'E', 'E', 'S'],\n",
       " ['S', 'E', 'E', 'E', 'E', 'E', 'E', 'E', 'E', 'E', 'E', 'S'],\n",
       " ['S', 'E', 'E', 'E', 'E', 'E', 'E', 'E', 'E', 'E', 'E', 'S'],\n",
       " ['S', 'E', 'E', 'E', 'E', 'E', 'E', 'E', 'E', 'E', 'E', 'S'],\n",
       " ['E', 'E', 'E', 'E', 'E', 'E', 'E', 'E', 'E', 'E', 'E', 'T']]"
      ]
     },
     "execution_count": 14,
     "metadata": {},
     "output_type": "execute_result"
    }
   ],
   "source": [
    "policy"
   ]
  },
  {
   "cell_type": "code",
   "execution_count": 16,
   "id": "24919d90",
   "metadata": {},
   "outputs": [],
   "source": [
    "# value_state"
   ]
  },
  {
   "cell_type": "code",
   "execution_count": 15,
   "id": "9889b9c6",
   "metadata": {},
   "outputs": [],
   "source": [
    "def print_policy():\n",
    "    init = [i for i in range(12)]\n",
    "    m = random.choice(init)\n",
    "    n = random.choice(init)\n",
    "    l = []\n",
    "    start = (m,n)\n",
    "    print(f\"starting from {start} follow this path\")\n",
    "    l.append(policy[m][n])\n",
    "    while(policy[m][n]!='T'):\n",
    "        if policy[m][n]=='E':\n",
    "            n+=1\n",
    "            l.append(policy[m][n])\n",
    "        elif policy[m][n]=='W':\n",
    "            n-=1\n",
    "            l.append(policy[m][n])\n",
    "        elif policy[m][n]=='S':\n",
    "            m+=1\n",
    "            l.append(policy[m][n])\n",
    "        elif policy[m][n]=='N':\n",
    "            m-=1\n",
    "            l.append(policy[m][n])\n",
    "    return l"
   ]
  },
  {
   "cell_type": "code",
   "execution_count": 16,
   "id": "aa768942",
   "metadata": {},
   "outputs": [
    {
     "name": "stdout",
     "output_type": "stream",
     "text": [
      "starting from (1, 4) follow this path\n",
      "['E', 'E', 'E', 'E', 'E', 'E', 'E', 'S', 'S', 'S', 'S', 'S', 'S', 'S', 'S', 'S', 'S', 'T']\n"
     ]
    }
   ],
   "source": [
    "road = print_policy()\n",
    "print(road)"
   ]
  },
  {
   "cell_type": "code",
   "execution_count": null,
   "id": "9ffb37fe",
   "metadata": {},
   "outputs": [],
   "source": []
  }
 ],
 "metadata": {
  "kernelspec": {
   "display_name": "Python 3 (ipykernel)",
   "language": "python",
   "name": "python3"
  },
  "language_info": {
   "codemirror_mode": {
    "name": "ipython",
    "version": 3
   },
   "file_extension": ".py",
   "mimetype": "text/x-python",
   "name": "python",
   "nbconvert_exporter": "python",
   "pygments_lexer": "ipython3",
   "version": "3.9.7"
  }
 },
 "nbformat": 4,
 "nbformat_minor": 5
}
