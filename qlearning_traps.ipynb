{
 "cells": [
  {
   "cell_type": "code",
   "execution_count": 1,
   "id": "0f7b8e34",
   "metadata": {},
   "outputs": [],
   "source": [
    "import numpy as np\n",
    "import random"
   ]
  },
  {
   "cell_type": "code",
   "execution_count": 10,
   "id": "11932853",
   "metadata": {},
   "outputs": [],
   "source": [
    "class stateClass:\n",
    "    def __init__(self,state, K, reward = -1):\n",
    "        self.K = K\n",
    "        self.Trap_y1 = [0,1,2,3,4,5,6,7]\n",
    "        self.Trap_x1 = [4]\n",
    "        self.Trap_y2 = [5,6,7,8,9,10,11,12]\n",
    "        self.Trap_x2 = [8]\n",
    "        self.isStart = self.isStart(state)\n",
    "        self.isEnd = self.isTerminal(state)\n",
    "        self.state = state\n",
    "        self.reward = reward\n",
    "    \n",
    "        if (self.state == (self.K-1,self.K-1)):\n",
    "            self.reward = 2*(self.K-1)\n",
    "        elif ((self.state[0] in self.Trap_x1 and self.state[1] in self.Trap_y1) or (self.state[0] in self.Trap_x2 and self.state[1] in self.Trap_y2)):\n",
    "            self.reward = -2*(self.K-1)\n",
    "            \n",
    "    def isTerminal(self, state):\n",
    "        if (state==(self.K-1,self.K-1)):\n",
    "            return True\n",
    "        return False\n",
    "    \n",
    "    def isStart(self, state):\n",
    "        if (state==(0,0)):\n",
    "            return True\n",
    "        return False\n",
    "      \n",
    "    def getStates(self):\n",
    "        return (self.state[0],self.state[1])\n",
    "\n",
    "\n",
    "    def getReward(self):\n",
    "        if self.state == (self.K-1,self.K-1):\n",
    "            return 2*(self.K-1)\n",
    "\n",
    "        else:\n",
    "            return -1"
   ]
  },
  {
   "cell_type": "markdown",
   "id": "25a7f08b",
   "metadata": {},
   "source": [
    "# greedy policy"
   ]
  },
  {
   "cell_type": "code",
   "execution_count": 11,
   "id": "eb0c16fd",
   "metadata": {},
   "outputs": [],
   "source": [
    "class Grid():\n",
    "    def __init__(self,K):\n",
    "        self.K = K\n",
    "        self.action_value_state = np.zeros((self.K,self.K))\n",
    "        self.policy = [[\"\" for i in range(self.K)] for i in range(self.K)]\n",
    "        \n",
    "    def q(self, alpha=0.01, num_episodes=1500, gamma=0.9):\n",
    "        for ep in range(num_episodes):\n",
    "            init = [i for i in range(self.K)]\n",
    "            m = random.choice(init)\n",
    "            n = random.choice(init)\n",
    "            state=stateClass((m,n),self.K)\n",
    "            if ((state.getStates()[0] in state.Trap_x1 and state.getStates()[1] in state.Trap_y1) or (state.getStates()[0] in state.Trap_x2 and state.getStates()[1] in state.Trap_y2)):\n",
    "                continue\n",
    "            while True:\n",
    "                action = self.take_greedy_action(state.getStates())\n",
    "                next_state = self.step(state.getStates(),action)\n",
    "\n",
    "                next_state_ = stateClass(next_state,self.K)\n",
    "                reward = next_state_.getReward()\n",
    "\n",
    "                self.action_value_state[state.getStates()[0]][state.getStates()[1]] += alpha*(reward+gamma*self.action_value_state[next_state[0]][next_state[1]])\n",
    "                if ((next_state[0] in state.Trap_x1 and next_state[1] in state.Trap_y1) or (next_state[0] in state.Trap_x2 and next_state[1] in state.Trap_y2)):\n",
    "                    break\n",
    "                self.policy[state.getStates()[0]][state.getStates()[1]] = action\n",
    "                state=next_state_\n",
    "                if action == 'T':\n",
    "                    break\n",
    "\n",
    "        return self.action_value_state,self.policy\n",
    "\n",
    "    def take_greedy_action(self,state, gamma=0.9):\n",
    "        dct={}\n",
    "        possible_actions = self.getPossibleActions(state)\n",
    "        for i, val in enumerate(possible_actions):\n",
    "            if val == ['T']:\n",
    "                continue\n",
    "            next_state = self.step(state,val)\n",
    "            v_next = self.action_value_state[next_state[0]][next_state[1]]\n",
    "            next_state = stateClass((next_state[0],next_state[1]),self.K)\n",
    "            reward = next_state.getReward()\n",
    "            v_new = reward + gamma*v_next\n",
    "            dct[val]=v_new\n",
    "\n",
    "        valist = [val for val in dct.values()]\n",
    "        max_value = max(valist)\n",
    "        self.action_value_state[state[0]][state[1]] = max_value\n",
    "        best_action = self.get_best_action(dct,max_value)\n",
    "        return best_action\n",
    "\n",
    "\n",
    "    def step(self, state,action):\n",
    "        i = state[0]\n",
    "        j = state[1]\n",
    "        if action == 'S': # SOUTH\n",
    "            if i == self.K-1:\n",
    "                return None\n",
    "            else:\n",
    "                i+=1        \n",
    "          \n",
    "        elif action == 'E':#EAST\n",
    "            if j == self.K-1:\n",
    "                return None\n",
    "            else:\n",
    "                j+=1\n",
    "                        \n",
    "        elif action == 'N':#NORTH\n",
    "            if i == 0:\n",
    "                return None\n",
    "            else:\n",
    "                i-=1\n",
    "                                      \n",
    "        elif action == 'W':#WEST\n",
    "            if j == 0:\n",
    "                return None\n",
    "            else:\n",
    "                j-=1\n",
    "            \n",
    "        return (i,j)\n",
    "    \n",
    "    def getPossibleActions(self, state):\n",
    "        \n",
    "        if state[0]==0:\n",
    "            if state[1]==0:\n",
    "                return ['E','S']\n",
    "            elif state[1]==self.K-1:\n",
    "                return ['S','W']\n",
    "            else:\n",
    "                return ['W','E','S']\n",
    "\n",
    "        elif state[0]==self.K - 1:\n",
    "            if state[1]==0:\n",
    "                return ['N','E']\n",
    "            elif state[1]==self.K-1:\n",
    "                return ['T']\n",
    "            \n",
    "            else:\n",
    "                return ['N','E','W']\n",
    "\n",
    "        elif state[1]==0:\n",
    "            return ['S','N','E']\n",
    "        \n",
    "        elif state[1]==self.K-1:\n",
    "            return ['N','S','W']\n",
    "\n",
    "        else:\n",
    "            return ['N','E','S','W']\n",
    "        \n",
    "    def get_best_action(self,d,val):\n",
    "        for key, value in d.items():\n",
    "#             print(\"the dict\",d)\n",
    "            if val == value:\n",
    "#                 print(\"the action chosen\",key)\n",
    "                return key\n",
    "            "
   ]
  },
  {
   "cell_type": "code",
   "execution_count": 12,
   "id": "ffc9ca51",
   "metadata": {},
   "outputs": [
    {
     "name": "stdout",
     "output_type": "stream",
     "text": [
      "Enter k the size of the gridWorld: 12\n"
     ]
    }
   ],
   "source": [
    "k = int(input(\"Enter k the size of the gridWorld: \"))"
   ]
  },
  {
   "cell_type": "code",
   "execution_count": 13,
   "id": "3808909d",
   "metadata": {},
   "outputs": [],
   "source": [
    "grid = Grid(k)\n"
   ]
  },
  {
   "cell_type": "code",
   "execution_count": 14,
   "id": "e4c97204",
   "metadata": {},
   "outputs": [],
   "source": [
    "action_value_state,policy = grid.q(num_episodes = 2000)"
   ]
  },
  {
   "cell_type": "code",
   "execution_count": 15,
   "id": "ea4a3e0c",
   "metadata": {},
   "outputs": [
    {
     "data": {
      "text/plain": [
       "[['S', 'S', 'S', 'S', 'S', 'S', 'E', 'E', 'S', 'W', 'S', 'S'],\n",
       " ['S', 'S', 'S', 'E', 'E', 'E', 'E', 'E', 'S', 'S', 'S', 'W'],\n",
       " ['S', 'E', 'E', 'E', 'E', 'E', 'E', 'E', 'S', 'E', 'S', 'S'],\n",
       " ['', '', 'E', 'E', 'E', 'E', 'E', 'E', 'E', 'S', 'S', 'S'],\n",
       " ['', '', '', '', '', '', '', '', 'E', 'S', 'S', 'S'],\n",
       " ['S', 'S', 'E', 'E', 'S', 'E', 'S', 'S', 'S', 'S', 'S', 'S'],\n",
       " ['S', 'E', 'S', 'S', 'S', 'S', 'S', 'S', 'S', 'S', 'S', 'W'],\n",
       " ['S', 'E', 'E', 'E', 'S', 'W', 'W', 'W', 'W', 'W', 'W', 'N'],\n",
       " ['S', 'E', 'E', 'E', 'S', '', '', '', '', '', '', ''],\n",
       " ['S', 'E', 'E', 'E', 'E', 'E', 'E', 'E', 'E', 'E', 'E', 'S'],\n",
       " ['S', 'E', 'S', 'S', 'E', 'E', 'E', 'E', 'E', 'E', 'E', 'S'],\n",
       " ['E', 'E', 'E', 'E', 'E', 'E', 'E', 'E', 'E', 'E', 'E', 'T']]"
      ]
     },
     "execution_count": 15,
     "metadata": {},
     "output_type": "execute_result"
    }
   ],
   "source": [
    "policy"
   ]
  },
  {
   "cell_type": "code",
   "execution_count": 8,
   "id": "b54a719e",
   "metadata": {},
   "outputs": [],
   "source": [
    "def print_policy():\n",
    "    m = int(input(\"Entrer la ligne: \"))\n",
    "    n = int(input(\"Entrer la colonne: \"))\n",
    "    while(m in [4] and n in [1,2,3,4,5,6,7,8] or m in[8] and n in [5,6,7,8,9,10,11,12]):\n",
    "        m = int(input(\"Entrer la ligne: \"))\n",
    "        n = int(input(\"Entrer la colonne: \"))\n",
    "    l = []\n",
    "    start = (m,n)\n",
    "    print(f\"starting from {start} follow this path\")\n",
    "    l.append(policy[m][n])\n",
    "    while(policy[m][n]!='T'):\n",
    "        if policy[m][n]=='E':\n",
    "            n+=1\n",
    "            l.append(policy[m][n])\n",
    "        elif policy[m][n]=='W':\n",
    "            n-=1\n",
    "            l.append(policy[m][n])\n",
    "        elif policy[m][n]=='S':\n",
    "            m+=1\n",
    "            l.append(policy[m][n])\n",
    "        elif policy[m][n]=='N':\n",
    "            m-=1\n",
    "            l.append(policy[m][n])\n",
    "        elif policy[m][n]==\"\":\n",
    "            print(\"you are in the trap\")\n",
    "            break\n",
    "    return l"
   ]
  },
  {
   "cell_type": "code",
   "execution_count": 9,
   "id": "828b1ac6",
   "metadata": {},
   "outputs": [
    {
     "name": "stdout",
     "output_type": "stream",
     "text": [
      "Entrer la ligne: 2\n",
      "Entrer la colonne: 1\n",
      "starting from (2, 1) follow this path\n",
      "['S', 'W', 'S', 'S', 'S', 'S', 'S', 'S', 'S', 'S', 'E', 'E', 'E', 'E', 'E', 'E', 'E', 'E', 'E', 'E', 'E', 'T']\n"
     ]
    }
   ],
   "source": [
    "road = print_policy()\n",
    "print(road)"
   ]
  },
  {
   "cell_type": "markdown",
   "id": "7110a412",
   "metadata": {},
   "source": [
    "# epsilon greedy policy"
   ]
  },
  {
   "cell_type": "code",
   "execution_count": 16,
   "id": "cca376bd",
   "metadata": {},
   "outputs": [],
   "source": [
    "class Grid_ep():\n",
    "    def __init__(self,K):\n",
    "        self.K = K\n",
    "        self.action_value_state = np.zeros((self.K,self.K))\n",
    "        self.policy = [[\"\" for i in range(self.K)] for i in range(self.K)]\n",
    "        \n",
    "    def q(self, alpha=0.01, num_episodes=1500, gamma=0.9,epsilon=0.1):\n",
    "        for ep in range(num_episodes):\n",
    "            init = [i for i in range(self.K)]\n",
    "            m = random.choice(init)\n",
    "            n = random.choice(init)\n",
    "            state=stateClass((m,n),self.K)\n",
    "            if ((state.getStates()[0] in state.Trap_x1 and state.getStates()[1] in state.Trap_y1) or (state.getStates()[0] in state.Trap_x2 and state.getStates()[1] in state.Trap_y2)):\n",
    "                continue\n",
    "            while True:\n",
    "                action = self.take_epsilon_greedy_action(state.getStates(),gamma,epsilon)\n",
    "                next_state = self.step(state.getStates(),action)\n",
    "\n",
    "                next_state_ = stateClass(next_state,self.K)\n",
    "                reward = next_state_.getReward()\n",
    "\n",
    "                self.action_value_state[state.getStates()[0]][state.getStates()[1]] += alpha*(reward+gamma*self.action_value_state[next_state[0]][next_state[1]]-self.action_value_state[state.getStates()[0]][state.getStates()[1]])\n",
    "                if ((next_state[0] in state.Trap_x1 and next_state[1] in state.Trap_y1) or (next_state[0] in state.Trap_x2 and next_state[1] in state.Trap_y2)):\n",
    "                    break\n",
    "                self.policy[state.getStates()[0]][state.getStates()[1]] = action\n",
    "                state=next_state_\n",
    "                if action == 'T':\n",
    "                    break\n",
    "\n",
    "        return self.action_value_state,self.policy\n",
    "\n",
    "    def take_epsilon_greedy_action(self,state, gamma,epsilon):\n",
    "        if np.random.random() < epsilon:\n",
    "            return random.choice(self.getPossibleActions(state))\n",
    "        else:\n",
    "\n",
    "            dct={}\n",
    "            possible_actions = self.getPossibleActions(state)\n",
    "            for i, val in enumerate(possible_actions):\n",
    "                if val == ['T']:\n",
    "                    continue\n",
    "                next_state = self.step(state,val)\n",
    "                v_next = self.action_value_state[next_state[0]][next_state[1]]\n",
    "                next_state = stateClass((next_state[0],next_state[1]),self.K)\n",
    "                reward = next_state.reward\n",
    "                v_new = reward + gamma*v_next\n",
    "                dct[val]=v_new\n",
    "\n",
    "            valist = [val for val in dct.values()]\n",
    "            max_value = max(valist)\n",
    "            self.action_value_state[state[0]][state[1]] = max_value\n",
    "            best_action = self.get_best_action(dct,max_value)\n",
    "            return best_action\n",
    "\n",
    "\n",
    "    def step(self, state,action):\n",
    "        i = state[0]\n",
    "        j = state[1]\n",
    "        if action == 'S': # South\n",
    "            if i == self.K-1:\n",
    "                return None\n",
    "            else:\n",
    "                i+=1        \n",
    "          \n",
    "        elif action == 'E':#EAST\n",
    "            if j == self.K-1:\n",
    "                return None\n",
    "            else:\n",
    "                j+=1\n",
    "                        \n",
    "        elif action == 'N':#North\n",
    "            if i == 0:\n",
    "                return None\n",
    "            else:\n",
    "                i-=1\n",
    "                                      \n",
    "        elif action == 'W':#WEST\n",
    "            if j == 0:\n",
    "                return None\n",
    "            else:\n",
    "                j-=1\n",
    "            \n",
    "        return (i,j)\n",
    "    \n",
    "    def getPossibleActions(self, state):\n",
    "        \n",
    "        if state[0]==0:\n",
    "            if state[1]==0:\n",
    "                return ['E','S']\n",
    "            elif state[1]==self.K-1:\n",
    "                return ['S','W']\n",
    "            else:\n",
    "                return ['W','E','S']\n",
    "\n",
    "        elif state[0]==self.K - 1:\n",
    "            if state[1]==0:\n",
    "                return ['N','E']\n",
    "            elif state[1]==self.K-1:\n",
    "                return ['T']\n",
    "            \n",
    "            else:\n",
    "                return ['N','E','W']\n",
    "\n",
    "        elif state[1]==0:\n",
    "            return ['S','N','E']\n",
    "        \n",
    "        elif state[1]==self.K-1:\n",
    "            return ['N','S','W']\n",
    "\n",
    "        else:\n",
    "            return ['N','E','S','W']\n",
    "        \n",
    "    def get_best_action(self,d,val):\n",
    "        for key, value in d.items():\n",
    "#             print(\"the dict\",d)\n",
    "            if val == value:\n",
    "#                 print(\"the action chosen\",key)\n",
    "                return key\n",
    "            "
   ]
  },
  {
   "cell_type": "code",
   "execution_count": 17,
   "id": "a30265fd",
   "metadata": {},
   "outputs": [],
   "source": [
    "grid = Grid_ep(k)\n",
    "action_value_state,policy = grid.q(num_episodes = 4000, gamma = 0.9,epsilon = 0.8)"
   ]
  },
  {
   "cell_type": "code",
   "execution_count": 18,
   "id": "2b54edd6",
   "metadata": {},
   "outputs": [
    {
     "data": {
      "text/plain": [
       "[['E', 'S', 'S', 'S', 'E', 'E', 'E', 'S', 'E', 'E', 'S', 'S'],\n",
       " ['E', 'E', 'E', 'E', 'E', 'E', 'S', 'W', 'N', 'S', 'W', 'S'],\n",
       " ['E', 'S', 'E', 'N', 'E', 'E', 'S', 'S', 'N', 'S', 'S', 'W'],\n",
       " ['N', 'E', 'E', 'N', 'N', 'E', 'E', 'W', 'S', 'W', 'E', 'S'],\n",
       " ['', '', '', '', '', '', '', '', 'S', 'W', 'S', 'W'],\n",
       " ['S', 'W', 'S', 'S', 'E', 'S', 'E', 'E', 'E', 'E', 'S', 'N'],\n",
       " ['E', 'E', 'E', 'E', 'S', 'W', 'S', 'W', 'W', 'W', 'W', 'W'],\n",
       " ['S', 'N', 'E', 'S', 'S', 'W', 'W', 'W', 'W', 'W', 'W', 'W'],\n",
       " ['S', 'E', 'N', 'S', 'S', '', '', '', '', '', '', ''],\n",
       " ['S', 'S', 'E', 'E', 'S', 'W', 'E', 'E', 'S', 'E', 'W', 'S'],\n",
       " ['E', 'E', 'S', 'S', 'E', 'E', 'N', 'W', 'S', 'S', 'E', 'S'],\n",
       " ['E', 'E', 'E', 'E', 'N', 'N', 'W', 'N', 'W', 'E', 'N', 'T']]"
      ]
     },
     "execution_count": 18,
     "metadata": {},
     "output_type": "execute_result"
    }
   ],
   "source": [
    "policy"
   ]
  },
  {
   "cell_type": "code",
   "execution_count": 19,
   "id": "e2901214",
   "metadata": {},
   "outputs": [
    {
     "name": "stdout",
     "output_type": "stream",
     "text": [
      "Entrer la ligne: 0\n",
      "Entrer la colonne: 0\n",
      "starting from (0, 0) follow this path\n"
     ]
    },
    {
     "ename": "KeyboardInterrupt",
     "evalue": "",
     "output_type": "error",
     "traceback": [
      "\u001b[1;31m---------------------------------------------------------------------------\u001b[0m",
      "\u001b[1;31mKeyboardInterrupt\u001b[0m                         Traceback (most recent call last)",
      "\u001b[1;32mC:\\Users\\ETTALH~1\\AppData\\Local\\Temp/ipykernel_8032/2175357995.py\u001b[0m in \u001b[0;36m<module>\u001b[1;34m\u001b[0m\n\u001b[1;32m----> 1\u001b[1;33m \u001b[0mroad\u001b[0m \u001b[1;33m=\u001b[0m \u001b[0mprint_policy\u001b[0m\u001b[1;33m(\u001b[0m\u001b[1;33m)\u001b[0m\u001b[1;33m\u001b[0m\u001b[1;33m\u001b[0m\u001b[0m\n\u001b[0m\u001b[0;32m      2\u001b[0m \u001b[0mprint\u001b[0m\u001b[1;33m(\u001b[0m\u001b[0mroad\u001b[0m\u001b[1;33m)\u001b[0m\u001b[1;33m\u001b[0m\u001b[1;33m\u001b[0m\u001b[0m\n",
      "\u001b[1;32mC:\\Users\\ETTALH~1\\AppData\\Local\\Temp/ipykernel_8032/2873495774.py\u001b[0m in \u001b[0;36mprint_policy\u001b[1;34m()\u001b[0m\n\u001b[0;32m     12\u001b[0m         \u001b[1;32mif\u001b[0m \u001b[0mpolicy\u001b[0m\u001b[1;33m[\u001b[0m\u001b[0mm\u001b[0m\u001b[1;33m]\u001b[0m\u001b[1;33m[\u001b[0m\u001b[0mn\u001b[0m\u001b[1;33m]\u001b[0m\u001b[1;33m==\u001b[0m\u001b[1;34m'E'\u001b[0m\u001b[1;33m:\u001b[0m\u001b[1;33m\u001b[0m\u001b[1;33m\u001b[0m\u001b[0m\n\u001b[0;32m     13\u001b[0m             \u001b[0mn\u001b[0m\u001b[1;33m+=\u001b[0m\u001b[1;36m1\u001b[0m\u001b[1;33m\u001b[0m\u001b[1;33m\u001b[0m\u001b[0m\n\u001b[1;32m---> 14\u001b[1;33m             \u001b[0ml\u001b[0m\u001b[1;33m.\u001b[0m\u001b[0mappend\u001b[0m\u001b[1;33m(\u001b[0m\u001b[0mpolicy\u001b[0m\u001b[1;33m[\u001b[0m\u001b[0mm\u001b[0m\u001b[1;33m]\u001b[0m\u001b[1;33m[\u001b[0m\u001b[0mn\u001b[0m\u001b[1;33m]\u001b[0m\u001b[1;33m)\u001b[0m\u001b[1;33m\u001b[0m\u001b[1;33m\u001b[0m\u001b[0m\n\u001b[0m\u001b[0;32m     15\u001b[0m         \u001b[1;32melif\u001b[0m \u001b[0mpolicy\u001b[0m\u001b[1;33m[\u001b[0m\u001b[0mm\u001b[0m\u001b[1;33m]\u001b[0m\u001b[1;33m[\u001b[0m\u001b[0mn\u001b[0m\u001b[1;33m]\u001b[0m\u001b[1;33m==\u001b[0m\u001b[1;34m'W'\u001b[0m\u001b[1;33m:\u001b[0m\u001b[1;33m\u001b[0m\u001b[1;33m\u001b[0m\u001b[0m\n\u001b[0;32m     16\u001b[0m             \u001b[0mn\u001b[0m\u001b[1;33m-=\u001b[0m\u001b[1;36m1\u001b[0m\u001b[1;33m\u001b[0m\u001b[1;33m\u001b[0m\u001b[0m\n",
      "\u001b[1;31mKeyboardInterrupt\u001b[0m: "
     ]
    }
   ],
   "source": [
    "road = print_policy()\n",
    "print(road)"
   ]
  },
  {
   "cell_type": "code",
   "execution_count": null,
   "id": "b9ee54b9",
   "metadata": {},
   "outputs": [],
   "source": []
  }
 ],
 "metadata": {
  "kernelspec": {
   "display_name": "Python 3 (ipykernel)",
   "language": "python",
   "name": "python3"
  },
  "language_info": {
   "codemirror_mode": {
    "name": "ipython",
    "version": 3
   },
   "file_extension": ".py",
   "mimetype": "text/x-python",
   "name": "python",
   "nbconvert_exporter": "python",
   "pygments_lexer": "ipython3",
   "version": "3.9.7"
  }
 },
 "nbformat": 4,
 "nbformat_minor": 5
}
