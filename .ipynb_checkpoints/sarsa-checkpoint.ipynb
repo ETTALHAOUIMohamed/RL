{
 "cells": [
  {
   "cell_type": "code",
   "execution_count": 3,
   "id": "0d5da9e8",
   "metadata": {},
   "outputs": [],
   "source": [
    "import numpy as np\n",
    "import random"
   ]
  },
  {
   "cell_type": "code",
   "execution_count": 4,
   "id": "748cd03c",
   "metadata": {},
   "outputs": [],
   "source": [
    "class stateClass:\n",
    "    def __init__(self,state, K, reward = -1):\n",
    "        self.K = K\n",
    "        self.isStart = self.isStart(state)\n",
    "        self.isEnd = self.isTerminal(state)\n",
    "        self.state = state\n",
    "        self.reward = self.getReward()\n",
    "            \n",
    "    def isTerminal(self, state):\n",
    "        if (state==(self.K-1,self.K-1)):\n",
    "            return True\n",
    "        return False\n",
    "    \n",
    "    def isStart(self, state):\n",
    "        if (state==(0,0)):\n",
    "            return True\n",
    "        return False\n",
    "      \n",
    "    def getStates(self):\n",
    "        return (self.state[0],self.state[1])\n",
    "\n",
    "\n",
    "    def getReward(self):\n",
    "        if self.state == (self.K-1,self.K-1):\n",
    "            return 2*(self.K-1)\n",
    "        else:\n",
    "            return -1"
   ]
  },
  {
   "cell_type": "code",
   "execution_count": 5,
   "id": "e01a7e7f",
   "metadata": {},
   "outputs": [],
   "source": [
    "class Grid():\n",
    "    def __init__(self,K):\n",
    "        self.K = K\n",
    "        self.action_value_state = np.zeros((self.K,self.K))\n",
    "        self.policy = [[\"\" for i in range(self.K)] for i in range(self.K)]\n",
    "        \n",
    "    def sarsa(self, alpha=0.01, num_episodes=3000, gamma=0.9):\n",
    "        for ep in range(num_episodes):\n",
    "            init = [i for i in range(self.K)]\n",
    "            m = random.choice(init)\n",
    "            n = random.choice(init)\n",
    "            #initisalisation state\n",
    "            state=stateClass((m,n),self.K)\n",
    "            #choose action\n",
    "            action = self.take_greedy_action(state.getStates())\n",
    "            while True:\n",
    "                #take the choosen action and observe reward\n",
    "                next_state = self.step(state.getStates(),action)\n",
    "                next_state_ = stateClass(next_state,self.K)\n",
    "                reward = next_state_.reward\n",
    "                #choose next action\n",
    "                next_action = self.take_greedy_action(next_state)\n",
    "\n",
    "                self.action_value_state[state.getStates()[0]][state.getStates()[1]] += alpha*(reward+gamma*self.action_value_state[next_state[0]][next_state[1]]-self.action_value_state[state.getStates()[0]][state.getStates()[1]])\n",
    "                self.policy[state.getStates()[0]][state.getStates()[1]] = action\n",
    "                state=next_state_\n",
    "                action = next_action\n",
    "                if state.getStates() == (self.K-1,self.K-1):\n",
    "                    break\n",
    "\n",
    "                if next_action == 'T':\n",
    "                    break\n",
    "\n",
    "        return self.action_value_state,self.policy\n",
    "\n",
    "    def take_greedy_action(self,state, gamma=0.9):\n",
    "        dct={}\n",
    "        possible_actions = self.getPossibleActions(state)\n",
    "        for i, val in enumerate(possible_actions):\n",
    "            if val == ['T']:\n",
    "                continue\n",
    "            next_state = self.step(state,val)\n",
    "            v_next = self.action_value_state[next_state[0]][next_state[1]]\n",
    "            next_state = stateClass((next_state[0],next_state[1]),self.K)\n",
    "            reward = next_state.reward\n",
    "            v_new = reward + gamma*v_next\n",
    "            dct[val]=v_new\n",
    "\n",
    "        valist = [val for val in dct.values()]\n",
    "        max_value = max(valist)\n",
    "        self.action_value_state[state[0]][state[1]] = max_value\n",
    "        best_action = self.get_best_action(dct,max_value)\n",
    "        return best_action\n",
    "\n",
    "\n",
    "    def step(self, state,action):\n",
    "        i = state[0]\n",
    "        j = state[1]\n",
    "        if action == 'S': # sud\n",
    "            if i == self.K-1:\n",
    "                return None\n",
    "            else:\n",
    "                i+=1        \n",
    "          \n",
    "        elif action == 'E':#EAST\n",
    "            if j == self.K-1:\n",
    "                return None\n",
    "            else:\n",
    "                j+=1\n",
    "                        \n",
    "        elif action == 'N':#Nord\n",
    "            if i == 0:\n",
    "                return None\n",
    "            else:\n",
    "                i-=1\n",
    "                                      \n",
    "        elif action == 'W':#WEST\n",
    "            if j == 0:\n",
    "                return None\n",
    "            else:\n",
    "                j-=1\n",
    "            \n",
    "        return (i,j)\n",
    "    \n",
    "    def getPossibleActions(self, state):\n",
    "        \n",
    "        if state[0]==0:\n",
    "            if state[1]==0:\n",
    "                return ['E','S']\n",
    "            elif state[1]==self.K-1:\n",
    "                return ['S','W']\n",
    "            else:\n",
    "                return ['W','E','S']\n",
    "\n",
    "        elif state[0]==self.K - 1:\n",
    "            if state[1]==0:\n",
    "                return ['N','E']\n",
    "            elif state[1]==self.K-1:\n",
    "                return ['T']\n",
    "            \n",
    "            else:\n",
    "                return ['N','E','W']\n",
    "\n",
    "        elif state[1]==0:\n",
    "            return ['S','N','E']\n",
    "        \n",
    "        elif state[1]==self.K-1:\n",
    "            return ['N','S','W']\n",
    "\n",
    "        else:\n",
    "            return ['N','E','S','W']\n",
    "        \n",
    "    def get_best_action(self,d,val):\n",
    "        for key, value in d.items():\n",
    "            if val == value:\n",
    "                return key\n",
    "            "
   ]
  },
  {
   "cell_type": "code",
   "execution_count": 6,
   "id": "7fa92173",
   "metadata": {},
   "outputs": [
    {
     "name": "stdout",
     "output_type": "stream",
     "text": [
      "Enter k the size of the gridWorld: 12\n"
     ]
    }
   ],
   "source": [
    "k = int(input(\"Enter k the size of the gridWorld: \"))"
   ]
  },
  {
   "cell_type": "code",
   "execution_count": 7,
   "id": "665658b5",
   "metadata": {},
   "outputs": [],
   "source": [
    "grid = Grid(k)"
   ]
  },
  {
   "cell_type": "code",
   "execution_count": 8,
   "id": "53e9aab3",
   "metadata": {},
   "outputs": [
    {
     "data": {
      "text/plain": [
       "array([[0., 0., 0., 0., 0., 0., 0., 0., 0., 0., 0., 0.],\n",
       "       [0., 0., 0., 0., 0., 0., 0., 0., 0., 0., 0., 0.],\n",
       "       [0., 0., 0., 0., 0., 0., 0., 0., 0., 0., 0., 0.],\n",
       "       [0., 0., 0., 0., 0., 0., 0., 0., 0., 0., 0., 0.],\n",
       "       [0., 0., 0., 0., 0., 0., 0., 0., 0., 0., 0., 0.],\n",
       "       [0., 0., 0., 0., 0., 0., 0., 0., 0., 0., 0., 0.],\n",
       "       [0., 0., 0., 0., 0., 0., 0., 0., 0., 0., 0., 0.],\n",
       "       [0., 0., 0., 0., 0., 0., 0., 0., 0., 0., 0., 0.],\n",
       "       [0., 0., 0., 0., 0., 0., 0., 0., 0., 0., 0., 0.],\n",
       "       [0., 0., 0., 0., 0., 0., 0., 0., 0., 0., 0., 0.],\n",
       "       [0., 0., 0., 0., 0., 0., 0., 0., 0., 0., 0., 0.],\n",
       "       [0., 0., 0., 0., 0., 0., 0., 0., 0., 0., 0., 0.]])"
      ]
     },
     "execution_count": 8,
     "metadata": {},
     "output_type": "execute_result"
    }
   ],
   "source": [
    "grid.action_value_state"
   ]
  },
  {
   "cell_type": "code",
   "execution_count": 9,
   "id": "1b0e157b",
   "metadata": {},
   "outputs": [],
   "source": [
    "action_value_state,policy = grid.sarsa()"
   ]
  },
  {
   "cell_type": "code",
   "execution_count": 10,
   "id": "3bdaf954",
   "metadata": {},
   "outputs": [
    {
     "data": {
      "text/plain": [
       "[['E', 'E', 'E', 'E', 'E', 'E', 'E', 'E', 'E', 'E', 'E', 'S'],\n",
       " ['S', 'E', 'E', 'E', 'E', 'E', 'E', 'E', 'E', 'E', 'E', 'S'],\n",
       " ['S', 'E', 'E', 'E', 'E', 'E', 'E', 'E', 'E', 'E', 'E', 'S'],\n",
       " ['S', 'E', 'E', 'E', 'E', 'E', 'E', 'E', 'E', 'E', 'E', 'S'],\n",
       " ['S', 'E', 'E', 'E', 'E', 'E', 'E', 'E', 'E', 'E', 'E', 'S'],\n",
       " ['S', 'E', 'E', 'E', 'E', 'E', 'E', 'E', 'E', 'E', 'E', 'S'],\n",
       " ['S', 'E', 'E', 'E', 'E', 'E', 'E', 'E', 'E', 'E', 'E', 'S'],\n",
       " ['S', 'E', 'E', 'E', 'E', 'E', 'E', 'E', 'E', 'E', 'E', 'S'],\n",
       " ['S', 'E', 'E', 'E', 'E', 'E', 'E', 'E', 'E', 'E', 'E', 'S'],\n",
       " ['S', 'E', 'E', 'E', 'E', 'E', 'E', 'E', 'E', 'E', 'E', 'S'],\n",
       " ['S', 'E', 'E', 'E', 'E', 'E', 'E', 'E', 'E', 'E', 'E', 'S'],\n",
       " ['E', 'E', 'E', 'E', 'E', 'E', 'E', 'E', 'E', 'E', 'E', 'T']]"
      ]
     },
     "execution_count": 10,
     "metadata": {},
     "output_type": "execute_result"
    }
   ],
   "source": [
    "policy"
   ]
  },
  {
   "cell_type": "code",
   "execution_count": 11,
   "id": "5a76d4e7",
   "metadata": {},
   "outputs": [
    {
     "data": {
      "text/plain": [
       "array([[ 15.1663675 ,  17.96263056,  21.06958951,  24.52176612,\n",
       "         28.35751791,  32.61946434,  37.35496038,  42.61662265,\n",
       "         48.46291405,  54.95879339,  62.1764371 ,  70.19604122],\n",
       "       [ 17.96263056,  21.06958951,  24.52176612,  28.35751791,\n",
       "         32.61946434,  37.35496038,  42.61662265,  48.46291405,\n",
       "         54.95879339,  62.1764371 ,  70.19604122,  79.10671247],\n",
       "       [ 21.06958951,  24.52176612,  28.35751791,  32.61946434,\n",
       "         37.35496038,  42.61662265,  48.46291405,  54.95879339,\n",
       "         62.1764371 ,  70.19604122,  79.10671247,  89.0074583 ],\n",
       "       [ 24.52176612,  28.35751791,  32.61946434,  37.35496038,\n",
       "         42.61662265,  48.46291405,  54.95879339,  62.1764371 ,\n",
       "         70.19604122,  79.10671247,  89.0074583 , 100.008287  ],\n",
       "       [ 28.35751791,  32.61946434,  37.35496038,  42.61662265,\n",
       "         48.46291405,  54.95879339,  62.1764371 ,  70.19604122,\n",
       "         79.10671247,  89.0074583 , 100.008287  , 112.23143   ],\n",
       "       [ 32.61946434,  37.35496038,  42.61662265,  48.46291405,\n",
       "         54.95879339,  62.1764371 ,  70.19604122,  79.10671247,\n",
       "         89.0074583 , 100.008287  , 112.23143   , 125.8127    ],\n",
       "       [ 37.35496038,  42.61662265,  48.46291405,  54.95879339,\n",
       "         62.1764371 ,  70.19604122,  79.10671247,  89.0074583 ,\n",
       "        100.008287  , 112.23143   , 125.8127    , 140.903     ],\n",
       "       [ 42.61662265,  48.46291405,  54.95879339,  62.1764371 ,\n",
       "         70.19604122,  79.10671247,  89.0074583 , 100.008287  ,\n",
       "        112.23143   , 125.8127    , 140.903     , 157.67      ],\n",
       "       [ 48.46291405,  54.95879339,  62.1764371 ,  70.19604122,\n",
       "         79.10671247,  89.0074583 , 100.008287  , 112.23143   ,\n",
       "        125.8127    , 140.903     , 157.67      , 176.3       ],\n",
       "       [ 54.95879339,  62.1764371 ,  70.19604122,  79.10671247,\n",
       "         89.0074583 , 100.008287  , 112.23143   , 125.8127    ,\n",
       "        140.903     , 157.67      , 176.3       , 197.        ],\n",
       "       [ 62.1764371 ,  70.19604122,  79.10671247,  89.0074583 ,\n",
       "        100.008287  , 112.23143   , 125.8127    , 140.903     ,\n",
       "        157.67      , 176.3       , 197.        , 220.        ],\n",
       "       [ 70.19604122,  79.10671247,  89.0074583 , 100.008287  ,\n",
       "        112.23143   , 125.8127    , 140.903     , 157.67      ,\n",
       "        176.3       , 197.        , 220.        , 220.        ]])"
      ]
     },
     "execution_count": 11,
     "metadata": {},
     "output_type": "execute_result"
    }
   ],
   "source": [
    "action_value_state"
   ]
  },
  {
   "cell_type": "code",
   "execution_count": 12,
   "id": "234a40e6",
   "metadata": {},
   "outputs": [],
   "source": [
    "def print_policy():\n",
    "    init = [i for i in range(12)]\n",
    "    m = random.choice(init)\n",
    "    n = random.choice(init)\n",
    "    l = []\n",
    "    start = (m,n)\n",
    "    print(f\"starting from {start} follow this path\")\n",
    "    l.append(policy[m][n])\n",
    "    while(policy[m][n]!='T'):\n",
    "        if policy[m][n]=='E':\n",
    "            n+=1\n",
    "            l.append(policy[m][n])\n",
    "        elif policy[m][n]=='W':\n",
    "            n-=1\n",
    "            l.append(policy[m][n])\n",
    "        elif policy[m][n]=='S':\n",
    "            m+=1\n",
    "            l.append(policy[m][n])\n",
    "        elif policy[m][n]=='N':\n",
    "            m-=1\n",
    "            l.append(policy[m][n])\n",
    "    return l"
   ]
  },
  {
   "cell_type": "code",
   "execution_count": 13,
   "id": "bfe66f0d",
   "metadata": {},
   "outputs": [
    {
     "name": "stdout",
     "output_type": "stream",
     "text": [
      "starting from (0, 11) follow this path\n",
      "['S', 'S', 'S', 'S', 'S', 'S', 'S', 'S', 'S', 'S', 'S', 'T']\n"
     ]
    }
   ],
   "source": [
    "road = print_policy()\n",
    "print(road)"
   ]
  },
  {
   "cell_type": "code",
   "execution_count": null,
   "id": "b4e3fe1a",
   "metadata": {},
   "outputs": [],
   "source": []
  }
 ],
 "metadata": {
  "kernelspec": {
   "display_name": "Python 3 (ipykernel)",
   "language": "python",
   "name": "python3"
  },
  "language_info": {
   "codemirror_mode": {
    "name": "ipython",
    "version": 3
   },
   "file_extension": ".py",
   "mimetype": "text/x-python",
   "name": "python",
   "nbconvert_exporter": "python",
   "pygments_lexer": "ipython3",
   "version": "3.9.7"
  }
 },
 "nbformat": 4,
 "nbformat_minor": 5
}
