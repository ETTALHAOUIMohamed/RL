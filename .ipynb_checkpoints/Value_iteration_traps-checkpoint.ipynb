{
 "cells": [
  {
   "cell_type": "code",
   "execution_count": 1,
   "id": "3c5fe90b",
   "metadata": {},
   "outputs": [],
   "source": [
    "import numpy as np\n",
    "import random"
   ]
  },
  {
   "cell_type": "code",
   "execution_count": 2,
   "id": "1d5d0805",
   "metadata": {},
   "outputs": [],
   "source": [
    "class stateClass:\n",
    "    def __init__(self,state, K, reward = -1):\n",
    "        self.K = K\n",
    "        self.Trap_y1 = [1,2,3,4,5,6,7,8]\n",
    "        self.Trap_x1 = [4]\n",
    "        self.Trap_y2 = [5,6,7,8,9,10,11,12]\n",
    "        self.Trap_x2 = [8]\n",
    "        self.isStart = self.isStart(state)\n",
    "        self.isEnd = self.isTerminal(state)\n",
    "        self.state = state\n",
    "    \n",
    "        if (self.state == (self.K-1,self.K-1)):\n",
    "            self.reward = 2*(self.K-1)\n",
    "        elif ((self.state[0] in self.Trap_x1 and self.state[1] in self.Trap_y1) or (self.state[0] in self.Trap_x2 and self.state[1] in self.Trap_y2)):\n",
    "            self.reward = -2*(self.K-1)\n",
    "            \n",
    "    def isTerminal(self, state):\n",
    "        if (state==(self.K-1,self.K-1)):\n",
    "            return True\n",
    "        return False\n",
    "    \n",
    "    def isStart(self, state):\n",
    "        if (state==(0,0)):\n",
    "            return True\n",
    "        return False\n",
    "      \n",
    "    def getStates(self):\n",
    "        return (self.state[0],self.state[1])\n",
    "\n",
    "#     def getReward(self, state, action, nextState):\n",
    "\n",
    "    def getReward(self):\n",
    "        if self.state == (self.K-1,self.K-1):\n",
    "            return 2*(self.K-1)\n",
    "#         elif self.state == LOSE_STATE:\n",
    "#             return -1\n",
    "        else:\n",
    "            return -1"
   ]
  },
  {
   "cell_type": "code",
   "execution_count": 3,
   "id": "7aa3ec5b",
   "metadata": {},
   "outputs": [],
   "source": [
    "class Grid():\n",
    "    def __init__(self,K):\n",
    "        self.K = K\n",
    "        self.grid = np.zeros((self.K,self.K))\n",
    "        self.value_state = np.zeros((self.K,self.K))\n",
    "        self.policy = [[\"\" for i in range(self.K)] for i in range(self.K)]\n",
    "    def value_state_function(self, theta = 0.01,gamma = 0.9):# give it another name\n",
    "        #ajouter un delta until delta < threshold\n",
    "        delta = 99\n",
    "        while delta>theta:\n",
    "            delta = 0\n",
    "            for x in range(self.K-1,-1,-1):\n",
    "                for y in range(self.K-1,-1,-1):\n",
    "                    state=stateClass((x,y),self.K)\n",
    "                    if ((state.getStates()[0] in state.Trap_x1 and state.getStates()[1] in state.Trap_y1) or (state.getStates()[0] in state.Trap_x2 and state.getStates()[1] in state.Trap_y2)):\n",
    "                        #pass a l'iteration suivante\n",
    "                        continue\n",
    "                    v_old = self.value_state[x][y]\n",
    "\n",
    "                    possible_actions = self.getPossibleActions((x,y))\n",
    "                    dct={}\n",
    "\n",
    "                    for i, val in enumerate(possible_actions):\n",
    "                        if val == ['T']:\n",
    "                            continue\n",
    "                        next_state = self.step(state.getStates(),val)\n",
    "                        v_next = self.value_state[next_state[0]][next_state[1]]\n",
    "                        next_state = stateClass((next_state[0],next_state[1]),self.K)\n",
    "                        reward = next_state.getReward()\n",
    "                        v_new = reward + gamma*v_next\n",
    "                        dct[val]=v_new\n",
    "                    valist = [val for val in dct.values()]\n",
    "                    max_value = max(valist)\n",
    "                    self.value_state[x][y] = max_value\n",
    "                    best_action = self.get_best_action(dct,max_value)\n",
    "                    self.policy[x][y]=best_action\n",
    "\n",
    "                    delta = max(delta,abs(self.value_state[x][y]-v_old))\n",
    "            if delta<theta:\n",
    "                break\n",
    "\n",
    "        return self.value_state, self.policy\n",
    "                    \n",
    "\n",
    "\n",
    "    def step(self, state,action):\n",
    "        i = state[0]\n",
    "        j = state[1]\n",
    "        if action == 'S': # SOUTH\n",
    "            if i == self.K-1:\n",
    "                return None\n",
    "            else:\n",
    "                i+=1        \n",
    "          \n",
    "        elif action == 'E':#EAST\n",
    "            if j == self.K-1:\n",
    "                return None\n",
    "            else:\n",
    "                j+=1\n",
    "                        \n",
    "        elif action == 'N':#NORTH\n",
    "            if i == 0:\n",
    "                return None\n",
    "            else:\n",
    "                i-=1\n",
    "                                      \n",
    "        elif action == 'W':#WEST\n",
    "            if j == 0:\n",
    "                return None\n",
    "            else:\n",
    "                j-=1\n",
    "            \n",
    "        return (i,j)\n",
    "    \n",
    "    def getPossibleActions(self, state):\n",
    "        \n",
    "        if state[0]==0:\n",
    "            if state[1]==0:\n",
    "                return ['E','S']\n",
    "            elif state[1]==self.K-1:\n",
    "                return ['S','W']\n",
    "            else:\n",
    "                return ['W','E','S']\n",
    "\n",
    "        elif state[0]==self.K - 1:\n",
    "            if state[1]==0:\n",
    "                return ['N','E']\n",
    "            elif state[1]==self.K-1:\n",
    "                return ['T']\n",
    "            \n",
    "            else:\n",
    "                return ['N','E','W']\n",
    "\n",
    "        elif state[1]==0:\n",
    "            return ['S','N','E']\n",
    "        \n",
    "        elif state[1]==self.K-1:\n",
    "            return ['N','S','W']\n",
    "\n",
    "        else:\n",
    "            return ['N','E','S','W']\n",
    "        \n",
    "    def get_best_action(self,d,val):\n",
    "        for key, value in d.items():\n",
    "#             print(\"the dict\",d)\n",
    "            if val == value:\n",
    "#                 print(\"the action chosen\",key)\n",
    "                return key\n",
    "            "
   ]
  },
  {
   "cell_type": "code",
   "execution_count": 4,
   "id": "12bc8546",
   "metadata": {},
   "outputs": [
    {
     "name": "stdout",
     "output_type": "stream",
     "text": [
      "Enter k the size of the gridWorld: 12\n"
     ]
    }
   ],
   "source": [
    "k = int(input(\"Enter k the size of the gridWorld: \"))"
   ]
  },
  {
   "cell_type": "code",
   "execution_count": 5,
   "id": "655cf1d1",
   "metadata": {},
   "outputs": [],
   "source": [
    "grid = Grid(k)"
   ]
  },
  {
   "cell_type": "code",
   "execution_count": 6,
   "id": "1bef9002",
   "metadata": {},
   "outputs": [],
   "source": [
    "value_state, policy = grid.value_state_function()"
   ]
  },
  {
   "cell_type": "code",
   "execution_count": 7,
   "id": "f3517eb0",
   "metadata": {},
   "outputs": [
    {
     "data": {
      "text/plain": [
       "[['S', 'W', 'W', 'W', 'W', 'W', 'E', 'E', 'E', 'S', 'W', 'S'],\n",
       " ['S', 'S', 'S', 'S', 'S', 'E', 'E', 'E', 'E', 'S', 'S', 'S'],\n",
       " ['S', 'S', 'S', 'S', 'S', 'E', 'E', 'E', 'E', 'S', 'S', 'S'],\n",
       " ['S', 'W', 'W', 'W', 'W', 'E', 'E', 'E', 'E', 'S', 'S', 'S'],\n",
       " ['S', '', '', '', '', '', '', '', '', 'S', 'S', 'S'],\n",
       " ['S', 'E', 'E', 'E', 'S', 'S', 'S', 'S', 'S', 'S', 'S', 'S'],\n",
       " ['S', 'E', 'E', 'E', 'S', 'S', 'S', 'S', 'S', 'S', 'S', 'S'],\n",
       " ['S', 'E', 'E', 'E', 'S', 'W', 'W', 'W', 'W', 'W', 'W', 'W'],\n",
       " ['S', 'E', 'E', 'E', 'S', '', '', '', '', '', '', ''],\n",
       " ['S', 'E', 'E', 'E', 'E', 'E', 'E', 'E', 'E', 'E', 'E', 'S'],\n",
       " ['S', 'E', 'E', 'E', 'E', 'E', 'E', 'E', 'E', 'E', 'E', 'S'],\n",
       " ['E', 'E', 'E', 'E', 'E', 'E', 'E', 'E', 'E', 'E', 'E', 'T']]"
      ]
     },
     "execution_count": 7,
     "metadata": {},
     "output_type": "execute_result"
    }
   ],
   "source": [
    "policy"
   ]
  },
  {
   "cell_type": "code",
   "execution_count": 10,
   "id": "5f0758cd",
   "metadata": {},
   "outputs": [],
   "source": [
    "def print_policy():\n",
    "    m = int(input(\"Entrer la ligne: \"))\n",
    "    n = int(input(\"Entrer la colonne: \"))\n",
    "    while(m in [4] and n in [1,2,3,4,5,6,7,8] or m in[8] and n in [5,6,7,8,9,10,11,12]):\n",
    "        m = int(input(\"Entrer la ligne: \"))\n",
    "        n = int(input(\"Entrer la colonne: \"))\n",
    "    l = []\n",
    "    start = (m,n)\n",
    "    print(f\"starting from {start} follow this path\")\n",
    "    l.append(policy[m][n])\n",
    "    while(policy[m][n]!='T'):\n",
    "        if policy[m][n]=='E':\n",
    "            n+=1\n",
    "            l.append(policy[m][n])\n",
    "        elif policy[m][n]=='W':\n",
    "            n-=1\n",
    "            l.append(policy[m][n])\n",
    "        elif policy[m][n]=='S':\n",
    "            m+=1\n",
    "            l.append(policy[m][n])\n",
    "        elif policy[m][n]=='N':\n",
    "            m-=1\n",
    "            l.append(policy[m][n])\n",
    "    return l"
   ]
  },
  {
   "cell_type": "code",
   "execution_count": 12,
   "id": "dd9c4420",
   "metadata": {},
   "outputs": [
    {
     "name": "stdout",
     "output_type": "stream",
     "text": [
      "Entrer la ligne: 1\n",
      "Entrer la colonne: 2\n",
      "starting from (1, 2) follow this path\n",
      "['S', 'S', 'W', 'W', 'S', 'S', 'S', 'S', 'S', 'S', 'S', 'S', 'E', 'E', 'E', 'E', 'E', 'E', 'E', 'E', 'E', 'E', 'E', 'T']\n"
     ]
    }
   ],
   "source": [
    "road = print_policy()\n",
    "print(road)"
   ]
  },
  {
   "cell_type": "code",
   "execution_count": null,
   "id": "3b388f47",
   "metadata": {},
   "outputs": [],
   "source": []
  }
 ],
 "metadata": {
  "kernelspec": {
   "display_name": "Python 3 (ipykernel)",
   "language": "python",
   "name": "python3"
  },
  "language_info": {
   "codemirror_mode": {
    "name": "ipython",
    "version": 3
   },
   "file_extension": ".py",
   "mimetype": "text/x-python",
   "name": "python",
   "nbconvert_exporter": "python",
   "pygments_lexer": "ipython3",
   "version": "3.9.7"
  }
 },
 "nbformat": 4,
 "nbformat_minor": 5
}
